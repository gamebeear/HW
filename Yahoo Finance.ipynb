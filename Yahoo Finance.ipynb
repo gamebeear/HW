{
 "cells": [
  {
   "cell_type": "code",
   "execution_count": 1,
   "id": "5546022e",
   "metadata": {},
   "outputs": [
    {
     "name": "stdout",
     "output_type": "stream",
     "text": [
      "Collecting yfinance\n",
      "  Downloading yfinance-0.2.20-py2.py3-none-any.whl (62 kB)\n",
      "     ---------------------------------------- 62.5/62.5 kB 3.5 MB/s eta 0:00:00\n",
      "Requirement already satisfied: beautifulsoup4>=4.11.1 in d:\\anaconda\\lib\\site-packages (from yfinance) (4.11.1)\n",
      "Requirement already satisfied: cryptography>=3.3.2 in d:\\anaconda\\lib\\site-packages (from yfinance) (37.0.1)\n",
      "Requirement already satisfied: numpy>=1.16.5 in d:\\anaconda\\lib\\site-packages (from yfinance) (1.21.5)\n",
      "Requirement already satisfied: appdirs>=1.4.4 in d:\\anaconda\\lib\\site-packages (from yfinance) (1.4.4)\n",
      "Requirement already satisfied: requests>=2.26 in d:\\anaconda\\lib\\site-packages (from yfinance) (2.28.1)\n",
      "Requirement already satisfied: pandas>=1.3.0 in d:\\anaconda\\lib\\site-packages (from yfinance) (1.4.4)\n",
      "Collecting frozendict>=2.3.4\n",
      "  Downloading frozendict-2.3.8-cp39-cp39-win_amd64.whl (35 kB)\n",
      "Collecting html5lib>=1.1\n",
      "  Downloading html5lib-1.1-py2.py3-none-any.whl (112 kB)\n",
      "     -------------------------------------- 112.2/112.2 kB 6.4 MB/s eta 0:00:00\n",
      "Collecting pytz>=2022.5\n",
      "  Downloading pytz-2023.3-py2.py3-none-any.whl (502 kB)\n",
      "     ---------------------------------------- 502.3/502.3 kB ? eta 0:00:00\n",
      "Collecting multitasking>=0.0.7\n",
      "  Downloading multitasking-0.0.11-py3-none-any.whl (8.5 kB)\n",
      "Requirement already satisfied: lxml>=4.9.1 in d:\\anaconda\\lib\\site-packages (from yfinance) (4.9.1)\n",
      "Requirement already satisfied: soupsieve>1.2 in d:\\anaconda\\lib\\site-packages (from beautifulsoup4>=4.11.1->yfinance) (2.3.1)\n",
      "Requirement already satisfied: cffi>=1.12 in d:\\anaconda\\lib\\site-packages (from cryptography>=3.3.2->yfinance) (1.15.1)\n",
      "Requirement already satisfied: six>=1.9 in d:\\anaconda\\lib\\site-packages (from html5lib>=1.1->yfinance) (1.16.0)\n",
      "Requirement already satisfied: webencodings in d:\\anaconda\\lib\\site-packages (from html5lib>=1.1->yfinance) (0.5.1)\n",
      "Requirement already satisfied: python-dateutil>=2.8.1 in d:\\anaconda\\lib\\site-packages (from pandas>=1.3.0->yfinance) (2.8.2)\n",
      "Requirement already satisfied: charset-normalizer<3,>=2 in d:\\anaconda\\lib\\site-packages (from requests>=2.26->yfinance) (2.0.4)\n",
      "Requirement already satisfied: certifi>=2017.4.17 in d:\\anaconda\\lib\\site-packages (from requests>=2.26->yfinance) (2022.9.14)\n",
      "Requirement already satisfied: idna<4,>=2.5 in d:\\anaconda\\lib\\site-packages (from requests>=2.26->yfinance) (3.3)\n",
      "Requirement already satisfied: urllib3<1.27,>=1.21.1 in d:\\anaconda\\lib\\site-packages (from requests>=2.26->yfinance) (1.26.11)\n",
      "Requirement already satisfied: pycparser in d:\\anaconda\\lib\\site-packages (from cffi>=1.12->cryptography>=3.3.2->yfinance) (2.21)\n",
      "Installing collected packages: pytz, multitasking, html5lib, frozendict, yfinance\n",
      "  Attempting uninstall: pytz\n",
      "    Found existing installation: pytz 2022.1\n",
      "    Uninstalling pytz-2022.1:\n",
      "      Successfully uninstalled pytz-2022.1\n",
      "Successfully installed frozendict-2.3.8 html5lib-1.1 multitasking-0.0.11 pytz-2023.3 yfinance-0.2.20\n"
     ]
    },
    {
     "name": "stderr",
     "output_type": "stream",
     "text": [
      "ERROR: pip's dependency resolver does not currently take into account all the packages that are installed. This behaviour is the source of the following dependency conflicts.\n",
      "conda-repo-cli 1.0.20 requires clyent==1.2.1, but you have clyent 1.2.2 which is incompatible.\n",
      "conda-repo-cli 1.0.20 requires nbformat==5.4.0, but you have nbformat 5.5.0 which is incompatible.\n"
     ]
    }
   ],
   "source": [
    "!pip install yfinance"
   ]
  },
  {
   "cell_type": "code",
   "execution_count": 2,
   "id": "eb959901",
   "metadata": {},
   "outputs": [],
   "source": [
    "import yfinance as yf\n",
    "import pandas as pd\n",
    "\n",
    "# Define the ticker symbol\n",
    "tickerSymbol = '^GSPC'\n",
    "\n",
    "# Get the data for the specified date range\n",
    "tickerData = yf.Ticker(tickerSymbol)\n",
    "data = tickerData.history(period='1d', start='2018-01-01', end='2023-06-18')\n",
    "\n",
    "# Save the data to a CSV file\n",
    "data.to_csv('sp500_history.csv')"
   ]
  },
  {
   "cell_type": "code",
   "execution_count": null,
   "id": "08f2463c",
   "metadata": {},
   "outputs": [],
   "source": []
  }
 ],
 "metadata": {
  "kernelspec": {
   "display_name": "Python 3 (ipykernel)",
   "language": "python",
   "name": "python3"
  },
  "language_info": {
   "codemirror_mode": {
    "name": "ipython",
    "version": 3
   },
   "file_extension": ".py",
   "mimetype": "text/x-python",
   "name": "python",
   "nbconvert_exporter": "python",
   "pygments_lexer": "ipython3",
   "version": "3.9.13"
  }
 },
 "nbformat": 4,
 "nbformat_minor": 5
}
