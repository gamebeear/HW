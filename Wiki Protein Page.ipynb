{
 "cells": [
  {
   "cell_type": "code",
   "execution_count": 3,
   "id": "a66c45d4",
   "metadata": {},
   "outputs": [
    {
     "name": "stdout",
     "output_type": "stream",
     "text": [
      "Link data saved to Hyperlinks.csv\n"
     ]
    }
   ],
   "source": [
    "import csv\n",
    "import requests\n",
    "from bs4 import BeautifulSoup\n",
    "\n",
    "def crawl(url):\n",
    "    # Send a GET request to the URL\n",
    "    response = requests.get(url)\n",
    "\n",
    "    # Parse the HTML content using BeautifulSoup\n",
    "    soup = BeautifulSoup(response.text, 'html.parser')\n",
    "\n",
    "    # Find all anchor tags (links) in the HTML\n",
    "    links = soup.find_all('a')\n",
    "\n",
    "    # Extract the href attribute and text content of each link\n",
    "    link_urls = []\n",
    "    link_texts = []\n",
    "    for link in links:\n",
    "        href = link.get('href')\n",
    "        text = link.get_text()\n",
    "        link_urls.append(href)\n",
    "        link_texts.append(text)\n",
    "\n",
    "    # Save the link data to a CSV file\n",
    "    with open('Hyperlinks.csv', 'w', newline='', encoding='utf-8') as csvfile:\n",
    "        fieldnames = ['URL', 'Text']\n",
    "        writer = csv.DictWriter(csvfile, fieldnames=fieldnames)\n",
    "        writer.writeheader()\n",
    "        writer.writerows({'URL': url, 'Text': text} for url, text in zip(link_urls, link_texts))\n",
    "\n",
    "    print(\"Link data saved to Hyperlinks.csv\")\n",
    "\n",
    "# Start the crawler\n",
    "crawl('https://en.wikipedia.org/wiki/Protein')\n",
    "\n"
   ]
  },
  {
   "cell_type": "code",
   "execution_count": null,
   "id": "f918dcee",
   "metadata": {},
   "outputs": [],
   "source": []
  }
 ],
 "metadata": {
  "kernelspec": {
   "display_name": "Python 3 (ipykernel)",
   "language": "python",
   "name": "python3"
  },
  "language_info": {
   "codemirror_mode": {
    "name": "ipython",
    "version": 3
   },
   "file_extension": ".py",
   "mimetype": "text/x-python",
   "name": "python",
   "nbconvert_exporter": "python",
   "pygments_lexer": "ipython3",
   "version": "3.9.13"
  }
 },
 "nbformat": 4,
 "nbformat_minor": 5
}
